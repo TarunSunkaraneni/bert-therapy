{
 "cells": [
  {
   "cell_type": "code",
   "execution_count": 3,
   "metadata": {},
   "outputs": [],
   "source": [
    "from transformers import RobertaTokenizer, RobertaForSequenceClassification\n",
    "import numpy as np\n",
    "import torch"
   ]
  },
  {
   "cell_type": "code",
   "execution_count": 4,
   "metadata": {},
   "outputs": [],
   "source": [
    "tokenizer = RobertaTokenizer.from_pretrained('roberta-base', cache_dir='/home/sunkaran/scr/sunkaraneni/.cache')\n",
    "model = RobertaForSequenceClassification.from_pretrained('roberta-base', cache_dir='/home/sunkaran/scr/sunkaraneni/.cache')"
   ]
  },
  {
   "cell_type": "code",
   "execution_count": 5,
   "metadata": {},
   "outputs": [],
   "source": [
    "SPECIAL_TOKENS = [\"<s>\", \"<eos>\", \"<therapist>\", \"<client>\", \"<utterance>\"]\n",
    "ATTR_TO_SPECIAL_TOKEN = {'bos_token': '<s>', 'eos_token': '</s>', 'pad_token': '<pad>',\n",
    "                         'additional_special_tokens': [\"<therapist>\", \"<patient>\", \"<utterance>\", \"</therapist>\", \"</patient>\", \"</utterance>\"]}\n",
    "\n",
    "def add_special_tokens_(model, tokenizer):\n",
    "  \"\"\" Add special tokens to the tokenizer and the model if they have not already been added. \"\"\"\n",
    "  orig_num_tokens = len(tokenizer.encoder)\n",
    "  num_added_tokens = tokenizer.add_special_tokens(ATTR_TO_SPECIAL_TOKEN) # doesn't add if they are already there\n",
    "  if num_added_tokens > 0:\n",
    "      model.resize_token_embeddings(new_num_tokens=orig_num_tokens + num_added_tokens) # doesn't mess with existing tokens\n",
    "\n",
    "add_special_tokens_(model, tokenizer)"
   ]
  },
  {
   "cell_type": "code",
   "execution_count": 7,
   "metadata": {},
   "outputs": [],
   "source": [
    "symbol_dict = {\n",
    "    'SPECIAL_START_TOKEN_IDS': set(tokenizer.convert_tokens_to_ids(ATTR_TO_SPECIAL_TOKEN['additional_special_tokens'])[:3]),\n",
    "    'SPECIAL_END_TOKEN_IDS': set(tokenizer.convert_tokens_to_ids(ATTR_TO_SPECIAL_TOKEN['additional_special_tokens'])[3:]),\n",
    "    'BOS_TOKEN_ID': tokenizer.bos_token_id,\n",
    "    'EOS_TOKEN_ID': tokenizer.eos_token_id,\n",
    "    'PAD_TOKEN_ID': tokenizer.pad_token_id\n",
    "  }\n",
    "    \n",
    "def generate_dialogue_attention_mask(batch):\n",
    "  mask = -10000 * torch.ones((batch.shape[0], batch.shape[1], batch.shape[1])) # 12 heads is fixed\n",
    "  for i in np.arange(batch.shape[0]):\n",
    "    example_special_idx = torch.nonzero(sum(batch[i] == t for t in (set.union(symbol_dict['SPECIAL_START_TOKEN_IDS'], symbol_dict['SPECIAL_END_TOKEN_IDS'])))).flatten().tolist()\n",
    "    last_idx = None\n",
    "    for idx, token_id in enumerate(batch[i].tolist()):\n",
    "      if token_id == symbol_dict['PAD_TOKEN_ID']:\n",
    "        break\n",
    "      if token_id == symbol_dict['BOS_TOKEN_ID'] or token_id == symbol_dict['EOS_TOKEN_ID']:\n",
    "        mask[i, idx, example_special_idx] = 0 # attend to other special tokens\n",
    "        mask[i, example_special_idx, idx] = 0 # let other special tokens attend to this\n",
    "        mask[i, idx, idx] = 0 # attend to self\n",
    "        if token_id == symbol_dict['EOS_TOKEN_ID']:\n",
    "          mask[i, idx, 0] = 0 # eos attends to bos\n",
    "          mask[i, 0, idx] = 0 # bos attends to eos\n",
    "      elif token_id in symbol_dict['SPECIAL_START_TOKEN_IDS']:\n",
    "         mask[i, idx, example_special_idx] = 0 # attend to other special tokens\n",
    "         last_idx = idx\n",
    "      elif token_id in symbol_dict['SPECIAL_END_TOKEN_IDS']:\n",
    "         mask[i, idx, example_special_idx] = 0\n",
    "         span_range = np.arange(last_idx, idx+1) # starts from the last opening special token to including this special token\n",
    "         x, y = np.meshgrid(span_range, span_range)\n",
    "         x, y = x.flatten(), y.flatten()\n",
    "         span_product = np.array(list(zip(x, y))) # 2-D array\n",
    "         mask[i, span_product[:, 0], span_product[:, 1]] = 0\n",
    "  # because we use multi-headed attention\n",
    "  return mask"
   ]
  },
  {
   "cell_type": "code",
   "execution_count": 8,
   "metadata": {},
   "outputs": [
    {
     "data": {
      "text/plain": [
       "'<s> <therapist>  I really dislike you </therapist> <patient> <utterance>  I know, you suck </utterance> <patient> </s>'"
      ]
     },
     "execution_count": 8,
     "metadata": {},
     "output_type": "execute_result"
    }
   ],
   "source": [
    "tokenizer.decode(tokenizer.encode('<s> <therapist> I really dislike you </therapist> <patient> <utterance> I know, you suck</utterance><patient></s>', add_special_tokens=False))"
   ]
  },
  {
   "cell_type": "code",
   "execution_count": 9,
   "metadata": {},
   "outputs": [],
   "source": [
    "examples = [\n",
    "    '<s> <therapist> I really dislike you </therapist> <patient> <utterance> I know, you suck</utterance><patient></s>',\n",
    "    '<s> No context<utterance> I know, you suck </utterance> <therapist> </s>'\n",
    "]"
   ]
  },
  {
   "cell_type": "code",
   "execution_count": 13,
   "metadata": {},
   "outputs": [],
   "source": [
    "inputs = tokenizer.batch_encode_plus(examples, add_special_tokens=False, pad_to_max_length=True, return_tensors='pt')"
   ]
  },
  {
   "cell_type": "code",
   "execution_count": 11,
   "metadata": {},
   "outputs": [],
   "source": [
    "inputs.update({\n",
    "    \"attention_mask\": generate_dialogue_attention_mask(inputs['input_ids'])\n",
    "})"
   ]
  },
  {
   "cell_type": "code",
   "execution_count": 14,
   "metadata": {},
   "outputs": [
    {
     "data": {
      "text/plain": [
       "(tensor([[-0.1333,  0.0890],\n",
       "         [-0.1192,  0.0830]], grad_fn=<AddmmBackward>),)"
      ]
     },
     "execution_count": 14,
     "metadata": {},
     "output_type": "execute_result"
    }
   ],
   "source": [
    "model(**inputs)"
   ]
  },
  {
   "cell_type": "code",
   "execution_count": null,
   "metadata": {},
   "outputs": [],
   "source": [
    "transformers.modeling_bert.BertSelfAttention"
   ]
  },
  {
   "cell_type": "code",
   "execution_count": null,
   "metadata": {},
   "outputs": [],
   "source": []
  }
 ],
 "metadata": {
  "kernelspec": {
   "display_name": "Python 3",
   "language": "python",
   "name": "python3"
  },
  "language_info": {
   "codemirror_mode": {
    "name": "ipython",
    "version": 3
   },
   "file_extension": ".py",
   "mimetype": "text/x-python",
   "name": "python",
   "nbconvert_exporter": "python",
   "pygments_lexer": "ipython3",
   "version": "3.6.10"
  }
 },
 "nbformat": 4,
 "nbformat_minor": 4
}
